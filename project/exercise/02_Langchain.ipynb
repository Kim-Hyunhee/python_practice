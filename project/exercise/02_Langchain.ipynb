{
 "cells": [
  {
   "cell_type": "code",
   "execution_count": null,
   "id": "538efce4",
   "metadata": {},
   "outputs": [],
   "source": [
    "# 설치 필요\n",
    "# pip install langchain langchain-openai python-dotenv"
   ]
  },
  {
   "cell_type": "code",
   "execution_count": null,
   "id": "18f10017",
   "metadata": {},
   "outputs": [
    {
     "data": {
      "text/plain": [
       "'사과는 영어로 \"apple\"이라고 합니다.'"
      ]
     },
     "execution_count": 7,
     "metadata": {},
     "output_type": "execute_result"
    }
   ],
   "source": [
    "from langchain_openai import ChatOpenAI\n",
    "from dotenv import load_dotenv\n",
    "\n",
    "# 환경변수 불러오기\n",
    "load_dotenv()\n",
    "\n",
    "# 모델 불러오기\n",
    "model = ChatOpenAI(\n",
    "  model = 'gpt-4o-mini',\n",
    "  temperature = 0.5 # 창의성(0~1 사이의 값을 설정할 수 있음)\n",
    ")\n",
    "\n",
    "# 질문해서 응답받기\n",
    "response = model.invoke('사과가 영어로 뭐야?')\n",
    "response\n",
    "\n",
    "# 저는 응답을 텍스트만 출력하고 싶어요.\n",
    "response.content"
   ]
  },
  {
   "cell_type": "code",
   "execution_count": null,
   "id": "3b13a248",
   "metadata": {},
   "outputs": [
    {
     "data": {
      "text/plain": [
       "StringPromptValue(text='AI Agent가 뭐야?')"
      ]
     },
     "execution_count": 8,
     "metadata": {},
     "output_type": "execute_result"
    }
   ],
   "source": [
    "from langchain_core.prompts import PromptTemplate\n",
    "\n",
    "# input variables\n",
    "template = \"{keyword}가 뭐야?\"\n",
    "prompt = PromptTemplate.from_template(template)\n",
    "\n",
    "# 내 질문에 답하라(invoke)\n",
    "prompt.invoke({'keyword' : \"AI Agent\"})"
   ]
  },
  {
   "cell_type": "code",
   "execution_count": 10,
   "id": "cb599da1",
   "metadata": {},
   "outputs": [
    {
     "data": {
      "text/plain": [
       "AIMessage(content='Python은 고급 프로그래밍 언어로, 1991년 귀도 반 로섬(Guido van Rossum)에 의해 처음 개발되었습니다. Python은 코드의 가독성이 높고, 문법이 간단하여 배우기 쉬운 언어로 알려져 있습니다. 다양한 프로그래밍 패러다임을 지원하며, 객체 지향, 절차 지향, 함수형 프로그래밍 등을 포함합니다.\\n\\nPython은 다음과 같은 특징을 가지고 있습니다:\\n\\n1. **가독성**: 코드가 명확하고 쉽게 읽힐 수 있도록 설계되어 있어, 개발자가 코드를 이해하고 유지보수하기 쉬워집니다.\\n\\n2. **다양한 라이브러리**: 데이터 분석, 웹 개발, 인공지능, 머신러닝, 게임 개발 등 다양한 분야에서 사용할 수 있는 풍부한 라이브러리와 프레임워크가 존재합니다. 예를 들어, NumPy, Pandas, TensorFlow, Flask, Django 등이 있습니다.\\n\\n3. **플랫폼 독립성**: Windows, macOS, Linux 등 다양한 운영체제에서 실행할 수 있습니다.\\n\\n4. **커뮤니티**: 활발한 사용자 커뮤니티가 있으며, 많은 자료와 튜토리얼이 온라인에 존재합니다.\\n\\n5. **인터프리터 언어**: Python은 인터프리터 언어로, 코드를 한 줄씩 실행할 수 있어 디버깅이 용이합니다.\\n\\n이러한 이유로 Python은 초보자부터 전문가까지 널리 사용되고 있으며, 데이터 과학, 웹 개발, 자동화 스크립트 작성 등 다양한 분야에서 활용됩니다.', additional_kwargs={'refusal': None}, response_metadata={'token_usage': {'completion_tokens': 348, 'prompt_tokens': 12, 'total_tokens': 360, 'completion_tokens_details': {'accepted_prediction_tokens': 0, 'audio_tokens': 0, 'reasoning_tokens': 0, 'rejected_prediction_tokens': 0}, 'prompt_tokens_details': {'audio_tokens': 0, 'cached_tokens': 0}}, 'model_name': 'gpt-4o-mini-2024-07-18', 'system_fingerprint': 'fp_0392822090', 'id': 'chatcmpl-BRWaDdt7PXgKvUG9GpJysc3xeeWTc', 'finish_reason': 'stop', 'logprobs': None}, id='run-7804e9db-8327-443f-a265-a91c2cedfc59-0', usage_metadata={'input_tokens': 12, 'output_tokens': 348, 'total_tokens': 360, 'input_token_details': {'audio': 0, 'cache_read': 0}, 'output_token_details': {'audio': 0, 'reasoning': 0}})"
      ]
     },
     "execution_count": 10,
     "metadata": {},
     "output_type": "execute_result"
    }
   ],
   "source": [
    "chain = prompt | model\n",
    "\n",
    "chain.invoke({'keyword':\"Python\"})"
   ]
  },
  {
   "cell_type": "code",
   "execution_count": 12,
   "id": "bc8910c2",
   "metadata": {},
   "outputs": [
    {
     "name": "stdout",
     "output_type": "stream",
     "text": [
      "비 오는 날에는 따뜻하고 편안한 음식을 먹는 것이 좋죠. 우울한 기분을 달래줄 수 있는 저녁 메뉴로는 다음과 같은 것들을 추천해요:\n",
      "\n",
      "1. **따뜻한 국물 요리**: 예를 들어, 미소된장국이나 닭개장 같은 국물 요리는 따뜻함을 주고 기분을 좋게 해줄 수 있어요.\n",
      "\n",
      "2. **부대찌개**: 매콤하고 얼큰한 부대찌개는 비 오는 날에 특히 잘 어울립니다. 다양한 재료를 넣어 푸짐하게 즐길 수 있어요.\n",
      "\n",
      "3. **치킨**: 바삭한 치킨과 함께 감자튀김이나 샐러드를 곁들이면 기분이 한층 나아질 수 있습니다. \n",
      "\n",
      "4. **스프**: 크림스프나 토마토 스프 같은 따뜻한 스프는 위안이 되는 맛이죠. 바게트와 함께 먹으면 더욱 좋습니다.\n",
      "\n",
      "5. **떡볶이**: 매콤하고 달콤한 떡볶이는 기분을 전환하는 데 도움이 될 수 있어요. \n",
      "\n",
      "이런 메뉴들이 우울한 기분을 조금이나마 달래줄 수 있을 거예요. 따뜻한 음식을 즐기면서 좋은 시간 보내세요!\n"
     ]
    }
   ],
   "source": [
    "template = \"\"\"\n",
    "오늘 날씨는 {weather}이고, 나는 {emotion}한 기분이야.\n",
    "내 저녁을 추천해줘\n",
    "\"\"\"\n",
    "\n",
    "prompt = PromptTemplate.from_template(template)\n",
    "\n",
    "chain = prompt | model\n",
    "\n",
    "response = chain.invoke(\n",
    "  {\n",
    "    \"weather\" : \"비\",\n",
    "    \"emotion\" : \"우울\"\n",
    "  }\n",
    ")\n",
    "\n",
    "print(response.content)"
   ]
  },
  {
   "cell_type": "code",
   "execution_count": null,
   "id": "e1a58263",
   "metadata": {},
   "outputs": [
    {
     "name": "stdout",
     "output_type": "stream",
     "text": [
      "좋아! 그럼 \"지우개\"로 n행시를 만들어볼게!\n",
      "\n",
      "지: 지우개로 지우면,  \n",
      "우: 우주로 날아간다!  \n",
      "개: 개그맨 박명수도 날아가~ (하하!)\n",
      "\n",
      "어때? 재밌지? 다음 주제도 주면 또 만들어볼게!좋아! 그럼 \"이클립스\"로 n행시를 만들어볼게!\n",
      "\n",
      "이: 이게 무슨 일이야? 내가 왜 이렇게 늦게 왔지?\n",
      "클: 클럽에서 춤추고 있었지! \n",
      "립: 립스틱이 다 지워졌네, 아우... \n",
      "스: 스스로를 돌아보니, 다음엔 집에서 쉬어야겠어!\n",
      "\n",
      "어때? 조금 웃겼으면 좋겠네!알겠어! 그럼 \"토피넛\"으로 n행시를 한번 해볼게!\n",
      "\n",
      "토: 토끼가 뛰어나다, \n",
      "피: 피곤할 땐 토끼처럼, \n",
      "넛: 넛지 않게 뛰어다녀야지! \n",
      "(넛: 넛지 않으면 토끼처럼 피곤해!)\n",
      "\n",
      "이렇게 연결해봤어! 재밌게 읽어줘!좋아! 주제를 주면 그에 맞게 재미있는 n행시를 만들어볼게. 어떤 주제를 원해?\n"
     ]
    }
   ],
   "source": [
    "template = \"\"\"\n",
    "너는 개그맨 박명수야.\n",
    "내가 {keyword}를 주면 거기에 맞게\n",
    "n행시를 작성해줘\n",
    "\n",
    "예를 들면\n",
    "keyword에 펭귄이 들어오면 펭: 펭현숙, 귄: 귄카\n",
    "로 keyword 개수만큼 글을 맞게 만들면 돼\n",
    "\n",
    "조금 더 재밌게 해줄래? 개그 요소가 들어갔으면 좋겠어\n",
    "한가지 주제로 말이 연결되게 말해야 재밌는 거야\n",
    "두음 법칙이나 발음이 비슷한 걸로 연결 해도 되니까 조금 더 재밌게 해줘\n",
    "\n",
    "글자 개수만큼만 해야돼 추가하고 그러면 안돼\n",
    "내가 예시로 보여준 것처럼 재밌게 해줘\n",
    "글자를 너의 마음대로 빼거나 여러개를 한 번에 쓰면 안돼\n",
    "\n",
    "\"\"\"\n",
    "\n",
    "prompt = PromptTemplate.from_template(template)\n",
    "\n",
    "chain = prompt | model\n",
    "\n",
    "keywords = [\"지우개\", '이클립스', '토피넛' ,'프로그래머']\n",
    "wordList = ''\n",
    "for word in keywords:\n",
    "  response = chain.invoke(\n",
    "  {\"keyword\":word}\n",
    ")\n",
    "  wordList+=response.content\n",
    "\n",
    "\n",
    "print(wordList)"
   ]
  },
  {
   "cell_type": "code",
   "execution_count": null,
   "id": "78228cfe",
   "metadata": {},
   "outputs": [
    {
     "name": "stdout",
     "output_type": "stream",
     "text": [
      "비 오는 날에는 따뜻하고 위안이 되는 음식을 추천해드리고 싶어요. 다음과 같은 저녁 메뉴는 어떨까요?\n",
      "\n",
      "1. **뜨끈한 국물 요리**: 김치찌개나 된장찌개 같은 한국식 찌개는 몸과 마음을 따뜻하게 해줄 거예요. \n",
      "2. **볶음밥**: 남은 재료로 간단하게 만들 수 있는 볶음밥은 맛있고 만족감을 줄 수 있어요. 특히, 계란을 올려주면 더 맛있답니다.\n",
      "3. **파스타**: 크림 소스나 토마토 소스의 파스타도 좋습니다. 부드럽고 풍미가 가득해 기분을 전환하는 데 도움이 될 거예요.\n",
      "4. **스프**: 치킨 스프나 미소 스프 같은 따뜻한 스프는 위로가 될 수 있습니다. 빵과 함께 곁들여 먹으면 더욱 좋겠죠!\n",
      "\n",
      "마음이 좀 더 편안해지길 바라요. 맛있는 저녁 드시고 기분이 나아지길 바랍니다!\n"
     ]
    }
   ],
   "source": [
    "# Langchain\n",
    "# => 다양한 AI 모델들을 하나의 코드로 호환성있게 관리를 할 수 있다.\n",
    "# chain = prompt(우리의 의도대로 작성하게 하는 것) | model(LLM) | output_parser(우리의 의도대로 일관성 있게 출력하기 위함)\n",
    "# prompt를 작성하기 위해 template(문자열 {이름} --> input variables)\n",
    "# chain.invoke({input variables}: 딕셔너리 형태)\n",
    "\n",
    "from langchain_core.output_parsers import StrOutputParser\n",
    "\n",
    "template = \"\"\"\n",
    "오늘 날씨는 {weather}이고, 나는 {emotion}한 기분이야.\n",
    "내 저녁을 추천해줘\n",
    "\"\"\"\n",
    "\n",
    "prompt = PromptTemplate.from_template(template)\n",
    "output_parser = StrOutputParser()\n",
    "chain = prompt | model | output_parser\n",
    "response = chain.invoke(\n",
    "  {\n",
    "    \"weather\" : \"비\",\n",
    "    \"emotion\" : \"우울\"\n",
    "  }\n",
    ")\n",
    "\n",
    "print(response)"
   ]
  }
 ],
 "metadata": {
  "kernelspec": {
   "display_name": ".venv",
   "language": "python",
   "name": "python3"
  },
  "language_info": {
   "codemirror_mode": {
    "name": "ipython",
    "version": 3
   },
   "file_extension": ".py",
   "mimetype": "text/x-python",
   "name": "python",
   "nbconvert_exporter": "python",
   "pygments_lexer": "ipython3",
   "version": "3.12.10"
  }
 },
 "nbformat": 4,
 "nbformat_minor": 5
}
